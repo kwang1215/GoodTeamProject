{
 "cells": [
  {
   "cell_type": "code",
   "execution_count": 3,
   "metadata": {},
   "outputs": [
    {
     "name": "stdout",
     "output_type": "stream",
     "text": [
      "무\n"
     ]
    }
   ],
   "source": [
    "from flask import Flask, render_template, request\n",
    "import random\n",
    "from flask_sqlalchemy import SQLAlchemy\n",
    "import os\n",
    "from sqlalchemy import func\n",
    "from itertools import product\n",
    "import random\n",
    "\n",
    "case = [\"가위\", \"바위\", \"보\"]\n",
    "\n",
    "    \n",
    "def rsp_result(player,computer):\n",
    "    event = (player,computer) # (플레이어,컴퓨타) 결과 듀플로 묶기 -> 밑에 product가 생성한 경우의 수와 비교하기 위해    \n",
    "    for x, y in enumerate(product(case, case), 1): # 가위바위보 모든 경우의 수 생성\n",
    "        if event == y:\n",
    "            if x in [1,5,9]: ## ★ 승패판정 및 결과출력\n",
    "                return \"무\"\n",
    "            elif x in [3,4,8]:\n",
    "                return \"승\"\n",
    "            else:\n",
    "                return \"패\"\n",
    "\n",
    "computer = str(random.choice(case))\n",
    "player = \"바위\"\n",
    "result = rsp_result(computer,player)\n",
    "\n",
    "print(result)"
   ]
  }
 ],
 "metadata": {
  "kernelspec": {
   "display_name": ".venv",
   "language": "python",
   "name": "python3"
  },
  "language_info": {
   "codemirror_mode": {
    "name": "ipython",
    "version": 3
   },
   "file_extension": ".py",
   "mimetype": "text/x-python",
   "name": "python",
   "nbconvert_exporter": "python",
   "pygments_lexer": "ipython3",
   "version": "3.10.11"
  }
 },
 "nbformat": 4,
 "nbformat_minor": 2
}
